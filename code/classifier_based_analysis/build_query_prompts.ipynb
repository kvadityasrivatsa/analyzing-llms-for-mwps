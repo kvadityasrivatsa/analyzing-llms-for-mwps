{
 "cells": [
  {
   "cell_type": "code",
   "execution_count": 1,
   "metadata": {},
   "outputs": [],
   "source": [
    "import json\n",
    "from tqdm import tqdm\n",
    "from pprint import pprint"
   ]
  },
  {
   "cell_type": "code",
   "execution_count": 2,
   "metadata": {},
   "outputs": [
    {
     "name": "stdout",
     "output_type": "stream",
     "text": [
      "Number of samples: 8792\n",
      "('Example:\\n'\n",
      " \"{'question': 'Natalia sold clips to 48 of her friends in April, and then she \"\n",
      " 'sold half as many clips in May. How many clips did Natalia sell altogether '\n",
      " \"in April and May?', 'answer': 'Natalia sold 48/2 = <<48/2=24>>24 clips in \"\n",
      " 'May.\\\\nNatalia sold 48+24 = <<48+24=72>>72 clips altogether in April and '\n",
      " \"May.\\\\n#### 72', 'split': 'train'}\")\n"
     ]
    }
   ],
   "source": [
    "data = json.load(open(\"../../data/raw_datasets/gsm8k_raw.json\",'r'))\n",
    "print(f\"Number of samples: {len(data)}\")\n",
    "pprint(f\"Example:\\n{data[0]}\")"
   ]
  },
  {
   "cell_type": "code",
   "execution_count": 3,
   "metadata": {},
   "outputs": [],
   "source": [
    "BASE_PROMPT_TEMPLATE = \"<s>SYSTEM_PROMPT\\nTASK_PROMPT\"\n",
    "SYSTEM_PROMPT = \"You are an expert in solving math questions. Answer the following question to the best of your ability.\""
   ]
  },
  {
   "cell_type": "code",
   "execution_count": 4,
   "metadata": {},
   "outputs": [
    {
     "name": "stderr",
     "output_type": "stream",
     "text": [
      "100%|██████████| 8792/8792 [00:00<00:00, 682136.90it/s]\n"
     ]
    }
   ],
   "source": [
    "for d in tqdm(data):\n",
    "    d[\"gold_solution\"] = d[\"answer\"].strip()\n",
    "    del d[\"answer\"]\n",
    "    d[\"query\"] = BASE_PROMPT_TEMPLATE.replace(\"SYSTEM_PROMPT\",SYSTEM_PROMPT).replace(\"TASK_PROMPT\",d[\"question\"])"
   ]
  },
  {
   "cell_type": "code",
   "execution_count": 5,
   "metadata": {},
   "outputs": [
    {
     "name": "stdout",
     "output_type": "stream",
     "text": [
      "Number of samples: 8792\n",
      "('Example:\\n'\n",
      " \"{'question': 'Natalia sold clips to 48 of her friends in April, and then she \"\n",
      " 'sold half as many clips in May. How many clips did Natalia sell altogether '\n",
      " \"in April and May?', 'split': 'train', 'gold_solution': 'Natalia sold 48/2 = \"\n",
      " '<<48/2=24>>24 clips in May.\\\\nNatalia sold 48+24 = <<48+24=72>>72 clips '\n",
      " \"altogether in April and May.\\\\n#### 72', 'query': '<s>You are an expert in \"\n",
      " 'solving math questions. Answer the following question to the best of your '\n",
      " 'ability.\\\\nNatalia sold clips to 48 of her friends in April, and then she '\n",
      " 'sold half as many clips in May. How many clips did Natalia sell altogether '\n",
      " \"in April and May?'}\")\n"
     ]
    }
   ],
   "source": [
    "print(f\"Number of samples: {len(data)}\")\n",
    "pprint(f\"Example:\\n{data[0]}\")"
   ]
  },
  {
   "cell_type": "code",
   "execution_count": 6,
   "metadata": {},
   "outputs": [],
   "source": [
    "json.dump(data, open(\"../../data/query_datasets/gsm8k_queries.json\",'w'), indent=3)"
   ]
  }
 ],
 "metadata": {
  "kernelspec": {
   "display_name": "its_v1",
   "language": "python",
   "name": "python3"
  },
  "language_info": {
   "codemirror_mode": {
    "name": "ipython",
    "version": 3
   },
   "file_extension": ".py",
   "mimetype": "text/x-python",
   "name": "python",
   "nbconvert_exporter": "python",
   "pygments_lexer": "ipython3",
   "version": "3.11.5"
  }
 },
 "nbformat": 4,
 "nbformat_minor": 2
}
